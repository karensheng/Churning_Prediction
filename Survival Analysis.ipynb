{
 "cells": [
  {
   "cell_type": "code",
   "execution_count": 1,
   "metadata": {},
   "outputs": [],
   "source": [
    "# !pip install lifelines"
   ]
  },
  {
   "cell_type": "code",
   "execution_count": 2,
   "metadata": {},
   "outputs": [],
   "source": [
    "'''BASIC'''\n",
    "import numpy as np\n",
    "import pandas as pd\n",
    "import random as rand\n",
    "import datetime\n",
    "import math\n",
    "import os\n",
    "import itertools as itr\n",
    "import warnings\n",
    "warnings.simplefilter('ignore')\n",
    "'''PLOT'''\n",
    "import seaborn as sns\n",
    "sns.set(style=\"ticks\", color_codes=True)\n",
    "import matplotlib.pyplot as plt\n",
    "from pandas.plotting import scatter_matrix\n",
    "\n",
    "plt.style.use('ggplot')\n",
    "font = {'size':16}\n",
    "'''STATS'''\n",
    "import scipy.stats as scs\n",
    "import statsmodels.api as sm\n",
    "\n",
    "from sklearn.model_selection import train_test_split\n",
    "\n",
    "from lifelines import CoxPHFitter \n",
    "\n",
    "from IPython.core.interactiveshell import InteractiveShell\n",
    "InteractiveShell.ast_node_interactivity = \"all\"\n",
    "\n",
    "'''RETURN'''\n",
    "os.system(\"say 'loading complete' &\");"
   ]
  },
  {
   "cell_type": "code",
   "execution_count": 3,
   "metadata": {},
   "outputs": [],
   "source": [
    "def churnpipe(file, disp=False, impute=True):\n",
    "    # read\n",
    "    X = pd.read_csv('data/'+file)\n",
    "    # create labels based on usage in the past 30 days\n",
    "    X['churn_yes'] = (pd.to_datetime(X['last_trip_date']) < pd.to_datetime('2014-06-01')) * 1\n",
    "    \n",
    "    X['tenure'] = (pd.to_datetime(X['last_trip_date']) - pd.to_datetime(X['signup_date'])).dt.days\n",
    "    \n",
    "    X['luxury_car_user'] = X['luxury_car_user'] * 1\n",
    "    \n",
    "    # dummies for null ratings or impute\n",
    "    if impute == True:\n",
    "        X['avg_rating_by_driver'].fillna(0, inplace=True)\n",
    "        X['avg_rating_of_driver'].fillna(0, inplace=True)\n",
    "    else:\n",
    "        X['rating_by_driver_missing'] = X['avg_rating_by_driver'].isnull()\n",
    "        X['rating_of_driver_missing'] = X['avg_rating_of_driver'].isnull()\n",
    "        X.drop(['avg_rating_by_driver', 'avg_rating_of_driver'], axis=1, inplace=True)\n",
    "#     # dummies for categorical variables\n",
    "    X = X.join(pd.get_dummies(X['phone'], prefix='phone', prefix_sep='_',drop_first=True, dummy_na=True))\n",
    "    X = X.join(pd.get_dummies(X['city'], prefix='city', prefix_sep='_',drop_first=True))\n",
    "    # remove the original variables\n",
    "    X.drop(['city','phone','last_trip_date', 'signup_date'], axis=1, inplace=True)\n",
    "    # printout\n",
    "    if disp == True:\n",
    "        print(X.info())\n",
    "        print(X['churn_yes'].value_counts(normalize=True))\n",
    "    # output\n",
    "    \n",
    "    return X\n",
    "\n"
   ]
  },
  {
   "cell_type": "code",
   "execution_count": 4,
   "metadata": {},
   "outputs": [],
   "source": [
    "df = churnpipe('churn_train.csv', impute=False)"
   ]
  },
  {
   "cell_type": "code",
   "execution_count": 5,
   "metadata": {},
   "outputs": [
    {
     "data": {
      "text/html": [
       "<div>\n",
       "<style scoped>\n",
       "    .dataframe tbody tr th:only-of-type {\n",
       "        vertical-align: middle;\n",
       "    }\n",
       "\n",
       "    .dataframe tbody tr th {\n",
       "        vertical-align: top;\n",
       "    }\n",
       "\n",
       "    .dataframe thead th {\n",
       "        text-align: right;\n",
       "    }\n",
       "</style>\n",
       "<table border=\"1\" class=\"dataframe\">\n",
       "  <thead>\n",
       "    <tr style=\"text-align: right;\">\n",
       "      <th></th>\n",
       "      <th>avg_dist</th>\n",
       "      <th>avg_surge</th>\n",
       "      <th>surge_pct</th>\n",
       "      <th>trips_in_first_30_days</th>\n",
       "      <th>luxury_car_user</th>\n",
       "      <th>weekday_pct</th>\n",
       "      <th>churn_yes</th>\n",
       "      <th>tenure</th>\n",
       "      <th>rating_by_driver_missing</th>\n",
       "      <th>rating_of_driver_missing</th>\n",
       "      <th>phone_iPhone</th>\n",
       "      <th>phone_nan</th>\n",
       "      <th>city_King's Landing</th>\n",
       "      <th>city_Winterfell</th>\n",
       "    </tr>\n",
       "  </thead>\n",
       "  <tbody>\n",
       "    <tr>\n",
       "      <th>0</th>\n",
       "      <td>6.94</td>\n",
       "      <td>1.00</td>\n",
       "      <td>0.0</td>\n",
       "      <td>0</td>\n",
       "      <td>0</td>\n",
       "      <td>100.0</td>\n",
       "      <td>1</td>\n",
       "      <td>111</td>\n",
       "      <td>False</td>\n",
       "      <td>False</td>\n",
       "      <td>0</td>\n",
       "      <td>0</td>\n",
       "      <td>0</td>\n",
       "      <td>0</td>\n",
       "    </tr>\n",
       "    <tr>\n",
       "      <th>1</th>\n",
       "      <td>8.06</td>\n",
       "      <td>1.00</td>\n",
       "      <td>0.0</td>\n",
       "      <td>2</td>\n",
       "      <td>1</td>\n",
       "      <td>0.0</td>\n",
       "      <td>1</td>\n",
       "      <td>1</td>\n",
       "      <td>False</td>\n",
       "      <td>False</td>\n",
       "      <td>0</td>\n",
       "      <td>0</td>\n",
       "      <td>0</td>\n",
       "      <td>0</td>\n",
       "    </tr>\n",
       "    <tr>\n",
       "      <th>2</th>\n",
       "      <td>21.50</td>\n",
       "      <td>1.00</td>\n",
       "      <td>0.0</td>\n",
       "      <td>1</td>\n",
       "      <td>1</td>\n",
       "      <td>100.0</td>\n",
       "      <td>1</td>\n",
       "      <td>139</td>\n",
       "      <td>False</td>\n",
       "      <td>True</td>\n",
       "      <td>1</td>\n",
       "      <td>0</td>\n",
       "      <td>0</td>\n",
       "      <td>1</td>\n",
       "    </tr>\n",
       "    <tr>\n",
       "      <th>3</th>\n",
       "      <td>9.46</td>\n",
       "      <td>2.75</td>\n",
       "      <td>100.0</td>\n",
       "      <td>1</td>\n",
       "      <td>0</td>\n",
       "      <td>100.0</td>\n",
       "      <td>1</td>\n",
       "      <td>1</td>\n",
       "      <td>False</td>\n",
       "      <td>True</td>\n",
       "      <td>0</td>\n",
       "      <td>0</td>\n",
       "      <td>0</td>\n",
       "      <td>1</td>\n",
       "    </tr>\n",
       "    <tr>\n",
       "      <th>4</th>\n",
       "      <td>13.77</td>\n",
       "      <td>1.00</td>\n",
       "      <td>0.0</td>\n",
       "      <td>0</td>\n",
       "      <td>0</td>\n",
       "      <td>100.0</td>\n",
       "      <td>1</td>\n",
       "      <td>102</td>\n",
       "      <td>False</td>\n",
       "      <td>True</td>\n",
       "      <td>1</td>\n",
       "      <td>0</td>\n",
       "      <td>0</td>\n",
       "      <td>1</td>\n",
       "    </tr>\n",
       "  </tbody>\n",
       "</table>\n",
       "</div>"
      ],
      "text/plain": [
       "   avg_dist  avg_surge  surge_pct  trips_in_first_30_days  luxury_car_user  \\\n",
       "0      6.94       1.00        0.0                       0                0   \n",
       "1      8.06       1.00        0.0                       2                1   \n",
       "2     21.50       1.00        0.0                       1                1   \n",
       "3      9.46       2.75      100.0                       1                0   \n",
       "4     13.77       1.00        0.0                       0                0   \n",
       "\n",
       "   weekday_pct  churn_yes  tenure  rating_by_driver_missing  \\\n",
       "0        100.0          1     111                     False   \n",
       "1          0.0          1       1                     False   \n",
       "2        100.0          1     139                     False   \n",
       "3        100.0          1       1                     False   \n",
       "4        100.0          1     102                     False   \n",
       "\n",
       "   rating_of_driver_missing  phone_iPhone  phone_nan  city_King's Landing  \\\n",
       "0                     False             0          0                    0   \n",
       "1                     False             0          0                    0   \n",
       "2                      True             1          0                    0   \n",
       "3                      True             0          0                    0   \n",
       "4                      True             1          0                    0   \n",
       "\n",
       "   city_Winterfell  \n",
       "0                0  \n",
       "1                0  \n",
       "2                1  \n",
       "3                1  \n",
       "4                1  "
      ]
     },
     "execution_count": 5,
     "metadata": {},
     "output_type": "execute_result"
    }
   ],
   "source": [
    "df.head()"
   ]
  },
  {
   "cell_type": "code",
   "execution_count": 6,
   "metadata": {},
   "outputs": [
    {
     "name": "stdout",
     "output_type": "stream",
     "text": [
      "<class 'pandas.core.frame.DataFrame'>\n",
      "RangeIndex: 40000 entries, 0 to 39999\n",
      "Data columns (total 14 columns):\n",
      "avg_dist                    40000 non-null float64\n",
      "avg_surge                   40000 non-null float64\n",
      "surge_pct                   40000 non-null float64\n",
      "trips_in_first_30_days      40000 non-null int64\n",
      "luxury_car_user             40000 non-null int64\n",
      "weekday_pct                 40000 non-null float64\n",
      "churn_yes                   40000 non-null int64\n",
      "tenure                      40000 non-null int64\n",
      "rating_by_driver_missing    40000 non-null bool\n",
      "rating_of_driver_missing    40000 non-null bool\n",
      "phone_iPhone                40000 non-null uint8\n",
      "phone_nan                   40000 non-null uint8\n",
      "city_King's Landing         40000 non-null uint8\n",
      "city_Winterfell             40000 non-null uint8\n",
      "dtypes: bool(2), float64(4), int64(4), uint8(4)\n",
      "memory usage: 2.7 MB\n"
     ]
    }
   ],
   "source": [
    "df.info()"
   ]
  },
  {
   "cell_type": "code",
   "execution_count": 7,
   "metadata": {},
   "outputs": [
    {
     "data": {
      "image/png": "[encoded data removed]",
      "text/plain": [
       "<Figure size 432x288 with 1 Axes>"
      ]
     },
     "metadata": {
      "needs_background": "light"
     },
     "output_type": "display_data"
    }
   ],
   "source": [
    "sns.kdeplot(df['tenure'],shade=True);"
   ]
  },
  {
   "cell_type": "code",
   "execution_count": 8,
   "metadata": {},
   "outputs": [],
   "source": [
    "# multicolinearity between 'avg_surge' and 'surge_pct'\n",
    "\n",
    "df2 = df.drop('avg_surge', axis = 1)"
   ]
  },
  {
   "cell_type": "code",
   "execution_count": 36,
   "metadata": {},
   "outputs": [
    {
     "data": {
      "image/png": "[encoded data removed]",
      "text/plain": [
       "<Figure size 432x288 with 1 Axes>"
      ]
     },
     "metadata": {
      "needs_background": "light"
     },
     "output_type": "display_data"
    }
   ],
   "source": [
    "from lifelines import KaplanMeierFitter\n",
    "kmf = KaplanMeierFitter()\n",
    "T = df[\"tenure\"]\n",
    "E = df[\"churn_yes\"]\n",
    "\n",
    "kmf.fit(T, event_observed=E)\n",
    "\n",
    "\n",
    "kmf.survival_function_.plot()\n",
    "plt.title('Survival function of users in the Jan 2014 cohort');"
   ]
  },
  {
   "cell_type": "code",
   "execution_count": 10,
   "metadata": {},
   "outputs": [
    {
     "data": {
      "text/plain": [
       "110.0"
      ]
     },
     "execution_count": 10,
     "metadata": {},
     "output_type": "execute_result"
    }
   ],
   "source": [
    "kmf.median_\n",
    "\n",
    "# The median time being an active user, which defines the point in time where\n",
    "# on average 1/2 of the cohort have churned. 110/30 - roughly 3.7 months."
   ]
  },
  {
   "cell_type": "code",
   "execution_count": 11,
   "metadata": {},
   "outputs": [
    {
     "name": "stdout",
     "output_type": "stream",
     "text": [
      "Iteration 7: norm_delta = 0.00000, step_size = 1.0000, ll = -195323.87368, newton_decrement = 0.00000, seconds_since_start = 0.4Convergence completed after 7 iterations.\n"
     ]
    },
    {
     "data": {
      "text/plain": [
       "<lifelines.CoxPHFitter: fitted with 32000 observations, 12061 censored>"
      ]
     },
     "execution_count": 11,
     "metadata": {},
     "output_type": "execute_result"
    }
   ],
   "source": [
    "cph_train, cph_test = train_test_split(df2, test_size=0.2, random_state =1) \n",
    "cph = CoxPHFitter(penalizer=0.1)\n",
    "cph.fit(cph_train, duration_col='tenure', event_col='churn_yes',show_progress=True)"
   ]
  },
  {
   "cell_type": "markdown",
   "metadata": {},
   "source": [
    "#### Having a history of booking a luxury car in the first 30 days decreases the risk of churning. Being in the city of King's Landing decreases the risk of churning. Having missing ratings of drivers increases the risk of churning."
   ]
  },
  {
   "cell_type": "code",
   "execution_count": 12,
   "metadata": {},
   "outputs": [
    {
     "name": "stdout",
     "output_type": "stream",
     "text": [
      "<lifelines.CoxPHFitter: fitted with 32000 observations, 12061 censored>\n",
      "      duration col = 'tenure'\n",
      "         event col = 'churn_yes'\n",
      "         penalizer = 0.1\n",
      "number of subjects = 32000\n",
      "  number of events = 19939\n",
      "partial log-likelihood = -195323.87\n",
      "  time fit was run = 2019-08-07 04:33:58 UTC\n",
      "\n",
      "---\n",
      "                          coef exp(coef)  se(coef)  coef lower 95%  coef upper 95% exp(coef) lower 95% exp(coef) upper 95%\n",
      "avg_dist                  0.01      1.01      0.00            0.01            0.01                1.01                1.01\n",
      "surge_pct                -0.00      1.00      0.00           -0.00            0.00                1.00                1.00\n",
      "trips_in_first_30_days   -0.06      0.94      0.00           -0.07           -0.05                0.94                0.95\n",
      "luxury_car_user          -0.43      0.65      0.02           -0.46           -0.40                0.63                0.67\n",
      "weekday_pct               0.00      1.00      0.00           -0.00            0.00                1.00                1.00\n",
      "rating_by_driver_missing  0.10      1.11      0.11           -0.11            0.31                0.90                1.36\n",
      "rating_of_driver_missing  0.38      1.46      0.02            0.34            0.42                1.41                1.52\n",
      "phone_iPhone             -0.49      0.61      0.01           -0.52           -0.47                0.59                0.63\n",
      "phone_nan                 0.10      1.11      0.07           -0.04            0.25                0.96                1.28\n",
      "city_King's Landing      -0.95      0.38      0.02           -1.00           -0.91                0.37                0.40\n",
      "city_Winterfell          -0.21      0.81      0.02           -0.24           -0.18                0.79                0.84\n",
      "\n",
      "                              z      p  -log2(p)\n",
      "avg_dist                  14.05 <0.005    146.55\n",
      "surge_pct                 -1.27   0.20      2.30\n",
      "trips_in_first_30_days   -21.89 <0.005    350.57\n",
      "luxury_car_user          -27.49 <0.005    550.13\n",
      "weekday_pct                0.01   0.99      0.01\n",
      "rating_by_driver_missing   0.97   0.33      1.58\n",
      "rating_of_driver_missing  20.88 <0.005    319.17\n",
      "phone_iPhone             -33.43 <0.005    811.41\n",
      "phone_nan                  1.36   0.17      2.53\n",
      "city_King's Landing      -41.07 <0.005       inf\n",
      "city_Winterfell          -13.42 <0.005    134.04\n",
      "---\n",
      "Concordance = 0.65\n",
      "Log-likelihood ratio test = 6424.86 on 11 df, -log2(p)=inf\n"
     ]
    }
   ],
   "source": [
    "cph.print_summary()"
   ]
  },
  {
   "cell_type": "code",
   "execution_count": 13,
   "metadata": {},
   "outputs": [
    {
     "data": {
      "text/plain": [
       "<matplotlib.axes._subplots.AxesSubplot at 0x1c1548c080>"
      ]
     },
     "execution_count": 13,
     "metadata": {},
     "output_type": "execute_result"
    },
    {
     "data": {
      "image/png": "[encoded data removed]",
      "text/plain": [
       "<Figure size 432x288 with 1 Axes>"
      ]
     },
     "metadata": {
      "needs_background": "light"
     },
     "output_type": "display_data"
    }
   ],
   "source": [
    "cph.plot()"
   ]
  },
  {
   "cell_type": "code",
   "execution_count": 14,
   "metadata": {},
   "outputs": [],
   "source": [
    "censored_subjects = df.loc[df['churn_yes'] == 0]"
   ]
  },
  {
   "cell_type": "code",
   "execution_count": 15,
   "metadata": {},
   "outputs": [
    {
     "data": {
      "text/html": [
       "<div>\n",
       "<style scoped>\n",
       "    .dataframe tbody tr th:only-of-type {\n",
       "        vertical-align: middle;\n",
       "    }\n",
       "\n",
       "    .dataframe tbody tr th {\n",
       "        vertical-align: top;\n",
       "    }\n",
       "\n",
       "    .dataframe thead th {\n",
       "        text-align: right;\n",
       "    }\n",
       "</style>\n",
       "<table border=\"1\" class=\"dataframe\">\n",
       "  <thead>\n",
       "    <tr style=\"text-align: right;\">\n",
       "      <th>T</th>\n",
       "      <th>0.0</th>\n",
       "      <th>1.0</th>\n",
       "      <th>2.0</th>\n",
       "      <th>3.0</th>\n",
       "      <th>4.0</th>\n",
       "      <th>5.0</th>\n",
       "      <th>6.0</th>\n",
       "      <th>7.0</th>\n",
       "      <th>8.0</th>\n",
       "      <th>9.0</th>\n",
       "      <th>...</th>\n",
       "      <th>172.0</th>\n",
       "      <th>173.0</th>\n",
       "      <th>174.0</th>\n",
       "      <th>175.0</th>\n",
       "      <th>176.0</th>\n",
       "      <th>177.0</th>\n",
       "      <th>178.0</th>\n",
       "      <th>179.0</th>\n",
       "      <th>180.0</th>\n",
       "      <th>181.0</th>\n",
       "    </tr>\n",
       "  </thead>\n",
       "  <tbody>\n",
       "    <tr>\n",
       "      <th>12</th>\n",
       "      <td>0.968081</td>\n",
       "      <td>0.904803</td>\n",
       "      <td>0.888628</td>\n",
       "      <td>0.879425</td>\n",
       "      <td>0.872393</td>\n",
       "      <td>0.867269</td>\n",
       "      <td>0.863336</td>\n",
       "      <td>0.859095</td>\n",
       "      <td>0.855836</td>\n",
       "      <td>0.852967</td>\n",
       "      <td>...</td>\n",
       "      <td>0.447748</td>\n",
       "      <td>0.447748</td>\n",
       "      <td>0.447748</td>\n",
       "      <td>0.447748</td>\n",
       "      <td>0.447748</td>\n",
       "      <td>0.447748</td>\n",
       "      <td>0.447748</td>\n",
       "      <td>0.447748</td>\n",
       "      <td>0.447748</td>\n",
       "      <td>0.447748</td>\n",
       "    </tr>\n",
       "    <tr>\n",
       "      <th>14</th>\n",
       "      <td>0.936883</td>\n",
       "      <td>0.817870</td>\n",
       "      <td>0.788751</td>\n",
       "      <td>0.772419</td>\n",
       "      <td>0.760056</td>\n",
       "      <td>0.751111</td>\n",
       "      <td>0.744281</td>\n",
       "      <td>0.736952</td>\n",
       "      <td>0.731343</td>\n",
       "      <td>0.726424</td>\n",
       "      <td>...</td>\n",
       "      <td>0.198913</td>\n",
       "      <td>0.198913</td>\n",
       "      <td>0.198913</td>\n",
       "      <td>0.198913</td>\n",
       "      <td>0.198913</td>\n",
       "      <td>0.198913</td>\n",
       "      <td>0.198913</td>\n",
       "      <td>0.198913</td>\n",
       "      <td>0.198913</td>\n",
       "      <td>0.198913</td>\n",
       "    </tr>\n",
       "    <tr>\n",
       "      <th>25</th>\n",
       "      <td>0.972785</td>\n",
       "      <td>0.918432</td>\n",
       "      <td>0.904449</td>\n",
       "      <td>0.896476</td>\n",
       "      <td>0.890375</td>\n",
       "      <td>0.885925</td>\n",
       "      <td>0.882507</td>\n",
       "      <td>0.878819</td>\n",
       "      <td>0.875982</td>\n",
       "      <td>0.873483</td>\n",
       "      <td>...</td>\n",
       "      <td>0.504880</td>\n",
       "      <td>0.504880</td>\n",
       "      <td>0.504880</td>\n",
       "      <td>0.504880</td>\n",
       "      <td>0.504880</td>\n",
       "      <td>0.504880</td>\n",
       "      <td>0.504880</td>\n",
       "      <td>0.504880</td>\n",
       "      <td>0.504880</td>\n",
       "      <td>0.504880</td>\n",
       "    </tr>\n",
       "    <tr>\n",
       "      <th>30</th>\n",
       "      <td>0.980616</td>\n",
       "      <td>0.941421</td>\n",
       "      <td>0.931230</td>\n",
       "      <td>0.925398</td>\n",
       "      <td>0.920926</td>\n",
       "      <td>0.917658</td>\n",
       "      <td>0.915145</td>\n",
       "      <td>0.912430</td>\n",
       "      <td>0.910339</td>\n",
       "      <td>0.908497</td>\n",
       "      <td>...</td>\n",
       "      <td>0.615784</td>\n",
       "      <td>0.615784</td>\n",
       "      <td>0.615784</td>\n",
       "      <td>0.615784</td>\n",
       "      <td>0.615784</td>\n",
       "      <td>0.615784</td>\n",
       "      <td>0.615784</td>\n",
       "      <td>0.615784</td>\n",
       "      <td>0.615784</td>\n",
       "      <td>0.615784</td>\n",
       "    </tr>\n",
       "    <tr>\n",
       "      <th>31</th>\n",
       "      <td>0.970069</td>\n",
       "      <td>0.910545</td>\n",
       "      <td>0.895289</td>\n",
       "      <td>0.886600</td>\n",
       "      <td>0.879957</td>\n",
       "      <td>0.875115</td>\n",
       "      <td>0.871397</td>\n",
       "      <td>0.867387</td>\n",
       "      <td>0.864303</td>\n",
       "      <td>0.861589</td>\n",
       "      <td>...</td>\n",
       "      <td>0.471089</td>\n",
       "      <td>0.471089</td>\n",
       "      <td>0.471089</td>\n",
       "      <td>0.471089</td>\n",
       "      <td>0.471089</td>\n",
       "      <td>0.471089</td>\n",
       "      <td>0.471089</td>\n",
       "      <td>0.471089</td>\n",
       "      <td>0.471089</td>\n",
       "      <td>0.471089</td>\n",
       "    </tr>\n",
       "  </tbody>\n",
       "</table>\n",
       "<p>5 rows × 182 columns</p>\n",
       "</div>"
      ],
      "text/plain": [
       "T      0.0       1.0       2.0       3.0       4.0       5.0       6.0    \\\n",
       "12  0.968081  0.904803  0.888628  0.879425  0.872393  0.867269  0.863336   \n",
       "14  0.936883  0.817870  0.788751  0.772419  0.760056  0.751111  0.744281   \n",
       "25  0.972785  0.918432  0.904449  0.896476  0.890375  0.885925  0.882507   \n",
       "30  0.980616  0.941421  0.931230  0.925398  0.920926  0.917658  0.915145   \n",
       "31  0.970069  0.910545  0.895289  0.886600  0.879957  0.875115  0.871397   \n",
       "\n",
       "T      7.0       8.0       9.0    ...     172.0     173.0     174.0     175.0  \\\n",
       "12  0.859095  0.855836  0.852967  ...  0.447748  0.447748  0.447748  0.447748   \n",
       "14  0.736952  0.731343  0.726424  ...  0.198913  0.198913  0.198913  0.198913   \n",
       "25  0.878819  0.875982  0.873483  ...  0.504880  0.504880  0.504880  0.504880   \n",
       "30  0.912430  0.910339  0.908497  ...  0.615784  0.615784  0.615784  0.615784   \n",
       "31  0.867387  0.864303  0.861589  ...  0.471089  0.471089  0.471089  0.471089   \n",
       "\n",
       "T      176.0     177.0     178.0     179.0     180.0     181.0  \n",
       "12  0.447748  0.447748  0.447748  0.447748  0.447748  0.447748  \n",
       "14  0.198913  0.198913  0.198913  0.198913  0.198913  0.198913  \n",
       "25  0.504880  0.504880  0.504880  0.504880  0.504880  0.504880  \n",
       "30  0.615784  0.615784  0.615784  0.615784  0.615784  0.615784  \n",
       "31  0.471089  0.471089  0.471089  0.471089  0.471089  0.471089  \n",
       "\n",
       "[5 rows x 182 columns]"
      ]
     },
     "execution_count": 15,
     "metadata": {},
     "output_type": "execute_result"
    }
   ],
   "source": [
    "unconditioned_sf = cph.predict_survival_function(censored_subjects)\n",
    "unconditioned_sf.T.head()"
   ]
  },
  {
   "cell_type": "code",
   "execution_count": 16,
   "metadata": {},
   "outputs": [],
   "source": [
    "conditioned_sf = unconditioned_sf.apply(lambda c: (c / c.loc[df.loc[c.name, 'tenure']]).clip_upper(1))"
   ]
  },
  {
   "cell_type": "code",
   "execution_count": 17,
   "metadata": {},
   "outputs": [
    {
     "data": {
      "text/html": [
       "<div>\n",
       "<style scoped>\n",
       "    .dataframe tbody tr th:only-of-type {\n",
       "        vertical-align: middle;\n",
       "    }\n",
       "\n",
       "    .dataframe tbody tr th {\n",
       "        vertical-align: top;\n",
       "    }\n",
       "\n",
       "    .dataframe thead th {\n",
       "        text-align: right;\n",
       "    }\n",
       "</style>\n",
       "<table border=\"1\" class=\"dataframe\">\n",
       "  <thead>\n",
       "    <tr style=\"text-align: right;\">\n",
       "      <th>T</th>\n",
       "      <th>0.0</th>\n",
       "      <th>1.0</th>\n",
       "      <th>2.0</th>\n",
       "      <th>3.0</th>\n",
       "      <th>4.0</th>\n",
       "      <th>5.0</th>\n",
       "      <th>6.0</th>\n",
       "      <th>7.0</th>\n",
       "      <th>8.0</th>\n",
       "      <th>9.0</th>\n",
       "      <th>...</th>\n",
       "      <th>172.0</th>\n",
       "      <th>173.0</th>\n",
       "      <th>174.0</th>\n",
       "      <th>175.0</th>\n",
       "      <th>176.0</th>\n",
       "      <th>177.0</th>\n",
       "      <th>178.0</th>\n",
       "      <th>179.0</th>\n",
       "      <th>180.0</th>\n",
       "      <th>181.0</th>\n",
       "    </tr>\n",
       "  </thead>\n",
       "  <tbody>\n",
       "    <tr>\n",
       "      <th>12</th>\n",
       "      <td>1.0</td>\n",
       "      <td>1.0</td>\n",
       "      <td>1.0</td>\n",
       "      <td>1.0</td>\n",
       "      <td>1.0</td>\n",
       "      <td>1.0</td>\n",
       "      <td>1.0</td>\n",
       "      <td>1.0</td>\n",
       "      <td>1.0</td>\n",
       "      <td>1.0</td>\n",
       "      <td>...</td>\n",
       "      <td>1.000000</td>\n",
       "      <td>1.000000</td>\n",
       "      <td>1.000000</td>\n",
       "      <td>1.000000</td>\n",
       "      <td>1.000000</td>\n",
       "      <td>1.000000</td>\n",
       "      <td>1.000000</td>\n",
       "      <td>1.000000</td>\n",
       "      <td>1.000000</td>\n",
       "      <td>1.000000</td>\n",
       "    </tr>\n",
       "    <tr>\n",
       "      <th>14</th>\n",
       "      <td>1.0</td>\n",
       "      <td>1.0</td>\n",
       "      <td>1.0</td>\n",
       "      <td>1.0</td>\n",
       "      <td>1.0</td>\n",
       "      <td>1.0</td>\n",
       "      <td>1.0</td>\n",
       "      <td>1.0</td>\n",
       "      <td>1.0</td>\n",
       "      <td>1.0</td>\n",
       "      <td>...</td>\n",
       "      <td>1.000000</td>\n",
       "      <td>1.000000</td>\n",
       "      <td>1.000000</td>\n",
       "      <td>1.000000</td>\n",
       "      <td>1.000000</td>\n",
       "      <td>1.000000</td>\n",
       "      <td>1.000000</td>\n",
       "      <td>1.000000</td>\n",
       "      <td>1.000000</td>\n",
       "      <td>1.000000</td>\n",
       "    </tr>\n",
       "    <tr>\n",
       "      <th>25</th>\n",
       "      <td>1.0</td>\n",
       "      <td>1.0</td>\n",
       "      <td>1.0</td>\n",
       "      <td>1.0</td>\n",
       "      <td>1.0</td>\n",
       "      <td>1.0</td>\n",
       "      <td>1.0</td>\n",
       "      <td>1.0</td>\n",
       "      <td>1.0</td>\n",
       "      <td>1.0</td>\n",
       "      <td>...</td>\n",
       "      <td>0.947885</td>\n",
       "      <td>0.947885</td>\n",
       "      <td>0.947885</td>\n",
       "      <td>0.947885</td>\n",
       "      <td>0.947885</td>\n",
       "      <td>0.947885</td>\n",
       "      <td>0.947885</td>\n",
       "      <td>0.947885</td>\n",
       "      <td>0.947885</td>\n",
       "      <td>0.947885</td>\n",
       "    </tr>\n",
       "    <tr>\n",
       "      <th>30</th>\n",
       "      <td>1.0</td>\n",
       "      <td>1.0</td>\n",
       "      <td>1.0</td>\n",
       "      <td>1.0</td>\n",
       "      <td>1.0</td>\n",
       "      <td>1.0</td>\n",
       "      <td>1.0</td>\n",
       "      <td>1.0</td>\n",
       "      <td>1.0</td>\n",
       "      <td>1.0</td>\n",
       "      <td>...</td>\n",
       "      <td>1.000000</td>\n",
       "      <td>1.000000</td>\n",
       "      <td>1.000000</td>\n",
       "      <td>1.000000</td>\n",
       "      <td>1.000000</td>\n",
       "      <td>1.000000</td>\n",
       "      <td>1.000000</td>\n",
       "      <td>1.000000</td>\n",
       "      <td>1.000000</td>\n",
       "      <td>1.000000</td>\n",
       "    </tr>\n",
       "    <tr>\n",
       "      <th>31</th>\n",
       "      <td>1.0</td>\n",
       "      <td>1.0</td>\n",
       "      <td>1.0</td>\n",
       "      <td>1.0</td>\n",
       "      <td>1.0</td>\n",
       "      <td>1.0</td>\n",
       "      <td>1.0</td>\n",
       "      <td>1.0</td>\n",
       "      <td>1.0</td>\n",
       "      <td>1.0</td>\n",
       "      <td>...</td>\n",
       "      <td>0.971131</td>\n",
       "      <td>0.971131</td>\n",
       "      <td>0.971131</td>\n",
       "      <td>0.971131</td>\n",
       "      <td>0.971131</td>\n",
       "      <td>0.971131</td>\n",
       "      <td>0.971131</td>\n",
       "      <td>0.971131</td>\n",
       "      <td>0.971131</td>\n",
       "      <td>0.971131</td>\n",
       "    </tr>\n",
       "  </tbody>\n",
       "</table>\n",
       "<p>5 rows × 182 columns</p>\n",
       "</div>"
      ],
      "text/plain": [
       "T   0.0    1.0    2.0    3.0    4.0    5.0    6.0    7.0    8.0    9.0    ...  \\\n",
       "12    1.0    1.0    1.0    1.0    1.0    1.0    1.0    1.0    1.0    1.0  ...   \n",
       "14    1.0    1.0    1.0    1.0    1.0    1.0    1.0    1.0    1.0    1.0  ...   \n",
       "25    1.0    1.0    1.0    1.0    1.0    1.0    1.0    1.0    1.0    1.0  ...   \n",
       "30    1.0    1.0    1.0    1.0    1.0    1.0    1.0    1.0    1.0    1.0  ...   \n",
       "31    1.0    1.0    1.0    1.0    1.0    1.0    1.0    1.0    1.0    1.0  ...   \n",
       "\n",
       "T      172.0     173.0     174.0     175.0     176.0     177.0     178.0  \\\n",
       "12  1.000000  1.000000  1.000000  1.000000  1.000000  1.000000  1.000000   \n",
       "14  1.000000  1.000000  1.000000  1.000000  1.000000  1.000000  1.000000   \n",
       "25  0.947885  0.947885  0.947885  0.947885  0.947885  0.947885  0.947885   \n",
       "30  1.000000  1.000000  1.000000  1.000000  1.000000  1.000000  1.000000   \n",
       "31  0.971131  0.971131  0.971131  0.971131  0.971131  0.971131  0.971131   \n",
       "\n",
       "T      179.0     180.0     181.0  \n",
       "12  1.000000  1.000000  1.000000  \n",
       "14  1.000000  1.000000  1.000000  \n",
       "25  0.947885  0.947885  0.947885  \n",
       "30  1.000000  1.000000  1.000000  \n",
       "31  0.971131  0.971131  0.971131  \n",
       "\n",
       "[5 rows x 182 columns]"
      ]
     },
     "execution_count": 17,
     "metadata": {},
     "output_type": "execute_result"
    }
   ],
   "source": [
    "conditioned_sf.T.head()"
   ]
  },
  {
   "cell_type": "code",
   "execution_count": 51,
   "metadata": {
    "scrolled": false
   },
   "outputs": [
    {
     "data": {
      "image/png": "[encoded data removed]",
      "text/plain": [
       "<Figure size 720x288 with 1 Axes>"
      ]
     },
     "metadata": {
      "needs_background": "light"
     },
     "output_type": "display_data"
    }
   ],
   "source": [
    "f = plt.figure(figsize=(10,4))\n",
    "\n",
    "ax = f.add_subplot(111)\n",
    "\n",
    "rating_missing = (df2[\"rating_of_driver_missing\"] == True)\n",
    "\n",
    "kmf.fit(T[rating_missing], event_observed=E[rating_missing], label=\"Ratings of Driver Missing\")\n",
    "kmf.plot(ax=ax)\n",
    "kmf.fit(T[~rating_missing], event_observed=E[~rating_missing], label=\"Ratings of Driver non-Missing\")\n",
    "kmf.plot(ax=ax)\n",
    "\n",
    "plt.xlabel('Timeline - Days')\n",
    "plt.ylabel('Fraction of the Jan Cohort')\n",
    "plt.ylim(0, 1);\n",
    "plt.title(\"Survival of Users with Missing and non-missing Ratings of Drivers\");\n",
    "plt.tight_layout();"
   ]
  },
  {
   "cell_type": "code",
   "execution_count": 52,
   "metadata": {
    "scrolled": true
   },
   "outputs": [
    {
     "data": {
      "image/png": "[encoded data removed]",
      "text/plain": [
       "<Figure size 720x288 with 1 Axes>"
      ]
     },
     "metadata": {
      "needs_background": "light"
     },
     "output_type": "display_data"
    }
   ],
   "source": [
    "f = plt.figure(figsize=(10,4))\n",
    "\n",
    "ax = f.add_subplot(111)\n",
    "lux_car = (df2[\"luxury_car_user\"] == True)\n",
    "\n",
    "kmf.fit(T[lux_car], event_observed=E[lux_car], label=\"Booked luxury car in the first 30 days\")\n",
    "kmf.plot(ax=ax)\n",
    "kmf.fit(T[~lux_car], event_observed=E[~lux_car], label=\"Didn't book luxury car in the first 30 days \")\n",
    "kmf.plot(ax=ax)\n",
    "\n",
    "plt.xlabel('Timeline - Days')\n",
    "plt.ylabel('Fraction of the Jan Cohort')\n",
    "plt.ylim(0, 1);\n",
    "plt.title(\"Survival of Users with Different Preferences for Luxury Cars\");\n",
    "plt.tight_layout();"
   ]
  },
  {
   "cell_type": "code",
   "execution_count": 53,
   "metadata": {
    "scrolled": true
   },
   "outputs": [
    {
     "data": {
      "image/png": "[encoded data removed]",
      "text/plain": [
       "<Figure size 720x288 with 1 Axes>"
      ]
     },
     "metadata": {
      "needs_background": "light"
     },
     "output_type": "display_data"
    }
   ],
   "source": [
    "f = plt.figure(figsize=(10,4))\n",
    "\n",
    "ax = f.add_subplot(111)\n",
    "\n",
    "iphone_user = (df2[\"phone_iPhone\"] == True)\n",
    "\n",
    "kmf.fit(T[iphone_user], event_observed=E[iphone_user], label=\"iPhone User\")\n",
    "kmf.plot(ax=ax)\n",
    "kmf.fit(T[~iphone_user], event_observed=E[~iphone_user], label=\"non-iPhone User\")\n",
    "kmf.plot(ax=ax)\n",
    "\n",
    "plt.xlabel('Timeline - Days')\n",
    "plt.ylabel('Fraction of the Jan Cohort')\n",
    "plt.ylim(0, 1);\n",
    "plt.title(\"Survival of iPhone and non-iPhone Users\");\n",
    "plt.tight_layout();"
   ]
  },
  {
   "cell_type": "code",
   "execution_count": 54,
   "metadata": {},
   "outputs": [
    {
     "data": {
      "image/png": "[encoded data removed]",
      "text/plain": [
       "<Figure size 720x288 with 1 Axes>"
      ]
     },
     "metadata": {
      "needs_background": "light"
     },
     "output_type": "display_data"
    }
   ],
   "source": [
    "f = plt.figure(figsize=(10,4))\n",
    "\n",
    "ax = f.add_subplot(111)\n",
    "\n",
    "king_city = (df2[\"city_King's Landing\"] == True)\n",
    "\n",
    "kmf.fit(T[king_city], event_observed=E[king_city], label=\"King's Landing\")\n",
    "kmf.plot(ax=ax)\n",
    "kmf.fit(T[~king_city], event_observed=E[~king_city], label=\"Other Cities\")\n",
    "kmf.plot(ax=ax)\n",
    "\n",
    "plt.xlabel('Timeline - Days')\n",
    "plt.ylabel('Fraction of the Jan Cohort')\n",
    "plt.ylim(0, 1);\n",
    "plt.title(\"Survival of users in King's Landing vs Other Cities\");\n",
    "plt.tight_layout();"
   ]
  },
  {
   "cell_type": "code",
   "execution_count": null,
   "metadata": {},
   "outputs": [],
   "source": []
  }
 ],
 "metadata": {
  "kernelspec": {
   "display_name": "Python 3",
   "language": "python",
   "name": "python3"
  },
  "language_info": {
   "codemirror_mode": {
    "name": "ipython",
    "version": 3
   },
   "file_extension": ".py",
   "mimetype": "text/x-python",
   "name": "python",
   "nbconvert_exporter": "python",
   "pygments_lexer": "ipython3",
   "version": "3.7.1"
  }
 },
 "nbformat": 4,
 "nbformat_minor": 2
}
